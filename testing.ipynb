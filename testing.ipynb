{
 "cells": [
  {
   "cell_type": "code",
   "execution_count": 1,
   "metadata": {},
   "outputs": [],
   "source": [
    "import numpy as np\n",
    "import matplotlib.pyplot as plt\n",
    "import torch\n",
    "import torch.nn as nn\n",
    "import segmentation_models_pytorch as smp\n",
    "\n",
    "from dataset import *"
   ]
  },
  {
   "cell_type": "markdown",
   "metadata": {},
   "source": [
    "**Load Model**"
   ]
  },
  {
   "cell_type": "code",
   "execution_count": 2,
   "metadata": {},
   "outputs": [
    {
     "data": {
      "text/plain": [
       "<All keys matched successfully>"
      ]
     },
     "execution_count": 2,
     "metadata": {},
     "output_type": "execute_result"
    }
   ],
   "source": [
    "# For GPU Training\n",
    "device = torch.device('cuda' if torch.cuda.is_available() else 'cpu')\n",
    "\n",
    "# Model Definition\n",
    "model = smp.Unet(\n",
    "    encoder_name='resnet34',\n",
    "    encoder_weights=None,\n",
    "    in_channels=5,\n",
    "    classes=3,\n",
    "    activation='softmax'\n",
    "    )#.to(device)\n",
    "\n",
    "model.load_state_dict(torch.load('./87DICE.pth', map_location='cpu'))"
   ]
  },
  {
   "cell_type": "code",
   "execution_count": 20,
   "metadata": {},
   "outputs": [],
   "source": [
    "test_data = np.load('./data/raw/south_data.npy')\n",
    "test_retile = test_data[::, 0:((test_data.shape[1]//32)*32), 0:((test_data.shape[2]//32)*32)]\n",
    "test_tiles = divide_image(test_retile, (64, 64), (64, 64))\n",
    "preds = []\n",
    "\n",
    "for tile in test_tiles:\n",
    "    preds.append(model.forward(torch.Tensor(np.expand_dims(tile.astype(int), axis=0))))\n",
    "    print(len(preds))"
   ]
  },
  {
   "cell_type": "code",
   "execution_count": null,
   "metadata": {},
   "outputs": [],
   "source": [
    "fig, ax = plt.subplots(2, 3, figsize=(20, 10))\n",
    "for band in range(5):\n",
    "    ax[band//3][band%3].imshow(test_retile[band])\n",
    "ax[3][3].imshow()"
   ]
  }
 ],
 "metadata": {
  "kernelspec": {
   "display_name": "base",
   "language": "python",
   "name": "python3"
  },
  "language_info": {
   "codemirror_mode": {
    "name": "ipython",
    "version": 3
   },
   "file_extension": ".py",
   "mimetype": "text/x-python",
   "name": "python",
   "nbconvert_exporter": "python",
   "pygments_lexer": "ipython3",
   "version": "3.8.8"
  }
 },
 "nbformat": 4,
 "nbformat_minor": 2
}
