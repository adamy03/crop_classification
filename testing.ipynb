{
 "cells": [
  {
   "cell_type": "code",
   "execution_count": 2,
   "metadata": {},
   "outputs": [],
   "source": [
    "import numpy as np\n",
    "import matplotlib.pyplot as plt\n",
    "import torch\n",
    "import torch.nn as nn\n",
    "import segmentation_models_pytorch as smp\n",
    "\n",
    "from tqdm import tqdm\n",
    "from dataset import *"
   ]
  },
  {
   "cell_type": "markdown",
   "metadata": {},
   "source": [
    "**Load Model**"
   ]
  },
  {
   "cell_type": "code",
   "execution_count": 2,
   "metadata": {},
   "outputs": [
    {
     "data": {
      "text/plain": [
       "<All keys matched successfully>"
      ]
     },
     "execution_count": 2,
     "metadata": {},
     "output_type": "execute_result"
    }
   ],
   "source": [
    "# For GPU Training\n",
    "device = torch.device('cuda' if torch.cuda.is_available() else 'cpu')\n",
    "\n",
    "# Model Definition\n",
    "model = smp.Unet(\n",
    "    encoder_name='resnet34',\n",
    "    encoder_weights=None,\n",
    "    in_channels=5,\n",
    "    classes=3,\n",
    "    activation='softmax'\n",
    "    )#.to(device)\n",
    "\n",
    "model.load_state_dict(torch.load('./87DICE.pth', map_location='cpu'))"
   ]
  },
  {
   "cell_type": "markdown",
   "metadata": {},
   "source": [
    "**Load Data**"
   ]
  },
  {
   "cell_type": "code",
   "execution_count": null,
   "metadata": {},
   "outputs": [],
   "source": [
    "# Takes maximum class probability and assigns class to output\n",
    "def max_classvals(out):\n",
    "    no_classes, height, width = out.shape\n",
    "    class_img = np.zeros((height, width), dtype=np.uint8)\n",
    "\n",
    "    for i in range(height):\n",
    "      for j in range(width):\n",
    "        class_img[i, j] = np.argmax(out[:, i, j]) #take max value\n",
    "\n",
    "    return class_img"
   ]
  },
  {
   "cell_type": "code",
   "execution_count": 7,
   "metadata": {},
   "outputs": [],
   "source": [
    "# Loading test data then cropping to be divisible by 32\n",
    "test_data = np.load('./data/raw/south_data.npy')\n",
    "test_retile = test_data[::, 0:((test_data.shape[1]//32)*32), 0:((test_data.shape[2]//32)*32)]"
   ]
  },
  {
   "cell_type": "markdown",
   "metadata": {},
   "source": [
    "**Run Inference**"
   ]
  },
  {
   "cell_type": "code",
   "execution_count": null,
   "metadata": {},
   "outputs": [],
   "source": [
    "# Retile test data\n",
    "test_tiles = divide_image(test_retile, (64), (64))\n",
    "preds = []\n",
    "bar = tqdm(range(len(test_tiles)), position=0)\n",
    "\n",
    "# Evaluate model\n",
    "model.eval()\n",
    "for iter in bar:\n",
    "    pred = model.forward(torch.Tensor(np.expand_dims(test_tiles[iter].astype(int), axis=0)).type(torch.cuda.FloatTensor))\n",
    "    pred = max_classvals(pred.detach().cpu().numpy().reshape(3, 128, 128))\n",
    "    preds.append(pred)"
   ]
  },
  {
   "cell_type": "code",
   "execution_count": 3,
   "metadata": {},
   "outputs": [],
   "source": [
    "preds = np.load('./data/preds.npy')"
   ]
  },
  {
   "cell_type": "markdown",
   "metadata": {},
   "source": [
    "**Generate Results**"
   ]
  },
  {
   "cell_type": "code",
   "execution_count": null,
   "metadata": {},
   "outputs": [],
   "source": [
    "# Reconstruct image from patches\n",
    "height = test_retile.shape[1]\n",
    "width = test_retile.shape[2]\n",
    "stride = 64\n",
    "out = np.zeros((1, test_retile.shape[1], test_retile.shape[2]))\n",
    "count = 0\n",
    "\n",
    "# Iterate through predictions and assign to row/col in output array\n",
    "for y in range(0, height-stride+1, stride):\n",
    "  for x in range(0, width-stride+1, stride):\n",
    "    out[::, y:y+stride, x:x+stride] = preds[count].reshape(1, stride, stride)\n",
    "    count += 1\n",
    "    \n",
    "np.save('./out128.npy', out)\n"
   ]
  }
 ],
 "metadata": {
  "kernelspec": {
   "display_name": "base",
   "language": "python",
   "name": "python3"
  },
  "language_info": {
   "codemirror_mode": {
    "name": "ipython",
    "version": 3
   },
   "file_extension": ".py",
   "mimetype": "text/x-python",
   "name": "python",
   "nbconvert_exporter": "python",
   "pygments_lexer": "ipython3",
   "version": "3.8.8"
  }
 },
 "nbformat": 4,
 "nbformat_minor": 2
}
