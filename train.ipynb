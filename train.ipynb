{
 "cells": [
  {
   "cell_type": "code",
   "execution_count": null,
   "metadata": {},
   "outputs": [],
   "source": [
    "import numpy as np\n",
    "import matplotlib.pyplot as plt\n",
    "import torch\n",
    "import torch.nn as nn\n",
    "import torch.optim as optim\n",
    "import segmentation_models_pytorch as smp\n",
    "\n",
    "from tqdm import tqdm\n",
    "from torchvision.transforms import v2\n",
    "from torch.utils.data import DataLoader\n",
    "from dice_loss import dice_coeff\n",
    "from dataset import *"
   ]
  },
  {
   "cell_type": "markdown",
   "metadata": {},
   "source": [
    "**Hyperparams**"
   ]
  },
  {
   "cell_type": "code",
   "execution_count": null,
   "metadata": {},
   "outputs": [],
   "source": [
    "BATCH_SIZE = 32\n",
    "LR = 1e-4\n",
    "EPOCHS = 30"
   ]
  },
  {
   "cell_type": "markdown",
   "metadata": {},
   "source": [
    "**Training Loop/Setup**"
   ]
  },
  {
   "cell_type": "code",
   "execution_count": null,
   "metadata": {},
   "outputs": [],
   "source": [
    "# Data Transforms\n",
    "train_transform = v2.Compose([\n",
    "    v2.RandomHorizontalFlip(p=0.5),\n",
    "    v2.RandomVerticalFlip(p=0.5)\n",
    "])\n",
    "\n",
    "# Dataset/Dataloaders\n",
    "train = CropDataset('./crop_set/train.hdf5', transform=train_transform)\n",
    "valid = CropDataset('./crop_set/valid.hdf5')\n",
    "test = CropDataset('./crop_set/test.hdf5')\n",
    "\n",
    "train_loader = DataLoader(dataset=train, batch_size=BATCH_SIZE, shuffle=True)\n",
    "valid_loader = DataLoader(dataset=valid, batch_size=len(valid), shuffle=True)\n",
    "test_loader = DataLoader(dataset=test, batch_size=len(test), shuffle=True)\n",
    "\n",
    "# For GPU Training\n",
    "device = torch.device('cuda' if torch.cuda.is_available() else 'cpu')\n",
    "\n",
    "# Model Definition\n",
    "model = smp.Unet(\n",
    "    encoder_name='resnet34',\n",
    "    encoder_weights=None,\n",
    "    in_channels=5,\n",
    "    classes=3,\n",
    "    activation='softmax'\n",
    "    ).to(device)\n",
    "\n",
    "# Loss and Optimizer Function\n",
    "optimizer = optim.Adam(model.parameters(), lr=LR)\n",
    "loss_fn = nn.CrossEntropyLoss()"
   ]
  },
  {
   "cell_type": "code",
   "execution_count": null,
   "metadata": {},
   "outputs": [],
   "source": [
    "def pred_step(samples, model):\n",
    "    samples = nn.functional.normalize(samples) # Normalize inputs before passing through function\n",
    "    preds = model.forward(samples)\n",
    "    return preds\n",
    "\n",
    "def eval_step(preds, labels, loss_fn, compute_dice=False):\n",
    "    labels = torch.Tensor(labels).to(device)\n",
    "    loss = loss_fn(preds, labels)\n",
    "\n",
    "    if compute_dice:\n",
    "        dice = dice_coeff(preds, labels) # Calculate dice coeff\n",
    "        return loss, dice\n",
    "\n",
    "    return loss\n"
   ]
  },
  {
   "cell_type": "code",
   "execution_count": null,
   "metadata": {},
   "outputs": [],
   "source": [
    "train_loss = []\n",
    "train_dice = []\n",
    "valid_loss = []\n",
    "valid_dice = []\n",
    "bar = tqdm(range(EPOCHS), position=0)\n",
    "\n",
    "for epoch in bar:\n",
    "    model.train()\n",
    "    train_loss_e = []\n",
    "    train_dice_e = []\n",
    "\n",
    "    # Training step\n",
    "    for idx, batch in enumerate(train_loader):\n",
    "        samples, labels = batch\n",
    "        samples, labels = samples.to(device).type(torch.cuda.FloatTensor), labels.cuda().to(device)\n",
    "\n",
    "        preds = pred_step(samples, model)\n",
    "        loss, dice = eval_step(preds, labels, loss_fn, True)\n",
    "        loss.backward()\n",
    "        optimizer.step()\n",
    "        optimizer.zero_grad()\n",
    "\n",
    "        train_loss_e.append(loss.cpu().item())\n",
    "        train_dice_e.append(dice.detach().cpu())\n",
    "\n",
    "    # Validation step\n",
    "    model.eval()\n",
    "    for idx, batch in enumerate(valid_loader):\n",
    "        with torch.no_grad():\n",
    "            samples, labels = batch\n",
    "            samples, labels = samples.to(device).type(torch.cuda.FloatTensor), labels.cuda().to(device)\n",
    "\n",
    "            preds = pred_step(samples, model)\n",
    "            loss, dice = eval_step(preds, labels.type(torch.float), loss_fn, True)\n",
    "\n",
    "            valid_loss.append(loss.item())\n",
    "            valid_dice.append(dice.detach().cpu())\n",
    "\n",
    "    print('train loss: {}, valid loss: {}, train dice: {}, valid dice: {}'.format(np.mean(train_loss_e), loss.item(), np.mean(train_dice_e), dice.item()))\n",
    "    train_loss.append(np.mean(train_loss_e)) # log loss/dice\n",
    "    train_dice.append(np.mean(train_dice_e))"
   ]
  },
  {
   "cell_type": "code",
   "execution_count": null,
   "metadata": {},
   "outputs": [],
   "source": [
    "# Plot loss/dice curves\n",
    "fig, ax = plt.subplots(1, 2)\n",
    "ax[0].plot(train_loss, label='train loss')\n",
    "ax[0].plot(valid_loss, label='valid loss')\n",
    "ax[1].plot(train_dice, label='train dice')\n",
    "ax[1].plot(valid_dice, label='valid dice')"
   ]
  },
  {
   "cell_type": "markdown",
   "metadata": {},
   "source": [
    "**Testing**"
   ]
  },
  {
   "cell_type": "code",
   "execution_count": null,
   "metadata": {},
   "outputs": [],
   "source": [
    "# Run through test loader and compute dice/loss\n",
    "for idx, batch in enumerate(test_loader):\n",
    "    with torch.no_grad():\n",
    "        samples, labels = batch\n",
    "        samples, labels = samples.to(device).type(torch.cuda.FloatTensor), labels.cuda().type(torch.cuda.FloatTensor).to(device)\n",
    "\n",
    "        preds = pred_step(samples, model)\n",
    "        loss, dice = eval_step(preds, labels, loss_fn, True)\n",
    "\n",
    "print(loss.item())\n",
    "print(dice.item())"
   ]
  }
 ],
 "metadata": {
  "kernelspec": {
   "display_name": "base",
   "language": "python",
   "name": "python3"
  },
  "language_info": {
   "codemirror_mode": {
    "name": "ipython",
    "version": 3
   },
   "file_extension": ".py",
   "mimetype": "text/x-python",
   "name": "python",
   "nbconvert_exporter": "python",
   "pygments_lexer": "ipython3",
   "version": "3.8.8"
  }
 },
 "nbformat": 4,
 "nbformat_minor": 2
}
